{
 "cells": [
  {
   "cell_type": "markdown",
   "metadata": {},
   "source": [
    "**Average number calculator**\n",
    "\n",
    "User can key in any numbers into this application and get the average value.\n",
    "Caveat: "
   ]
  },
  {
   "cell_type": "code",
   "execution_count": 6,
   "metadata": {},
   "outputs": [
    {
     "name": "stdout",
     "output_type": "stream",
     "text": [
      "Key in any numbers to get their average\n",
      "Key in number '0' to stop the application\n"
     ]
    },
    {
     "name": "stdin",
     "output_type": "stream",
     "text": [
      " 100\n",
      " 90\n",
      " 70\n",
      " 12\n",
      " 0\n"
     ]
    },
    {
     "name": "stdout",
     "output_type": "stream",
     "text": [
      "Program has stopped\n",
      "The average value for these 4 numbers (excluding 0) is 68.0\n"
     ]
    }
   ],
   "source": [
    "print('Key in any numbers to get their average')\n",
    "print(\"Key in number '0' to stop the application\")\n",
    "\n",
    "\n",
    "sum = 0\n",
    "n = 0\n",
    "\n",
    "while sum >= 0:\n",
    "    number = input()\n",
    "    number = float(number)\n",
    "    sum = sum + number\n",
    "    n = n + 1\n",
    "    avg = round((sum/n),2)\n",
    "    if number == 0:\n",
    "        n = n-1\n",
    "        avg = round((sum/n),2)\n",
    "        print('Program has stopped')\n",
    "        print(f'The average value for these {n} numbers (excluding 0) is {avg}')\n",
    "        break"
   ]
  },
  {
   "cell_type": "markdown",
   "metadata": {},
   "source": [
    "    "
   ]
  },
  {
   "cell_type": "markdown",
   "metadata": {},
   "source": [
    "        "
   ]
  }
 ],
 "metadata": {
  "kernelspec": {
   "display_name": "Python",
   "language": "python",
   "name": "conda-env-python-py"
  },
  "language_info": {
   "codemirror_mode": {
    "name": "ipython",
    "version": 3
   },
   "file_extension": ".py",
   "mimetype": "text/x-python",
   "name": "python",
   "nbconvert_exporter": "python",
   "pygments_lexer": "ipython3",
   "version": "3.6.10"
  }
 },
 "nbformat": 4,
 "nbformat_minor": 4
}
